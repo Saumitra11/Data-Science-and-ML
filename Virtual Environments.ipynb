{
 "cells": [
  {
   "cell_type": "markdown",
   "id": "70d2edb5",
   "metadata": {},
   "source": [
    "<h1>VIRTUAL ENVIRONMENTS</H1>"
   ]
  },
  {
   "cell_type": "markdown",
   "id": "f203614b",
   "metadata": {},
   "source": [
    "**Just used for using other versions of a library or technology**"
   ]
  },
  {
   "cell_type": "markdown",
   "id": "c3f70cb6",
   "metadata": {},
   "source": [
    "To create a virtual environment, use <br>*conda create --name environment_name* <br> Then to activate the new environment, use *activate environment_name* <br> To add any specific libraries to the environment, use <br>*conda create --name environment_name library_name* <br> To add specific version of the tool or library, use <br>*conda create --name environment_name python=version library_name* <br> To list all the existing environments, use <br>*conda info --envs*<br>To remove an environment, use <br>*conda remove --name environment_name --all*<br>"
   ]
  },
  {
   "cell_type": "code",
   "execution_count": null,
   "id": "05d2c30d",
   "metadata": {},
   "outputs": [],
   "source": []
  }
 ],
 "metadata": {
  "kernelspec": {
   "display_name": "Python 3 (ipykernel)",
   "language": "python",
   "name": "python3"
  },
  "language_info": {
   "codemirror_mode": {
    "name": "ipython",
    "version": 3
   },
   "file_extension": ".py",
   "mimetype": "text/x-python",
   "name": "python",
   "nbconvert_exporter": "python",
   "pygments_lexer": "ipython3",
   "version": "3.8.12"
  }
 },
 "nbformat": 4,
 "nbformat_minor": 5
}
